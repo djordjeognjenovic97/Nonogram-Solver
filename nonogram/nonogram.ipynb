{
 "cells": [
  {
   "cell_type": "code",
   "execution_count": 1,
   "metadata": {},
   "outputs": [],
   "source": [
    "import numpy as np\n",
    "import cv2 # OpenCV\n",
    "import matplotlib\n",
    "import matplotlib.pyplot as plt\n",
    "import math\n",
    "import collections"
   ]
  },
  {
   "cell_type": "code",
   "execution_count": 2,
   "metadata": {},
   "outputs": [],
   "source": [
    "# iscrtavanje slika u notebook-u\n",
    "%matplotlib inline\n",
    "# prikaz vecih slika\n",
    "matplotlib.rcParams['figure.figsize'] = 16,12"
   ]
  },
  {
   "cell_type": "code",
   "execution_count": 3,
   "metadata": {},
   "outputs": [
    {
     "name": "stderr",
     "output_type": "stream",
     "text": [
      "Using TensorFlow backend.\n"
     ]
    }
   ],
   "source": [
    "# keras\n",
    "from keras.models import Sequential\n",
    "from keras.layers.core import Dense, Activation\n",
    "from keras.optimizers import SGD"
   ]
  },
  {
   "cell_type": "code",
   "execution_count": 4,
   "metadata": {},
   "outputs": [],
   "source": [
    "def load_image(path):\n",
    "    return cv2.cvtColor(cv2.imread(path), cv2.COLOR_BGR2RGB)\n",
    "\n",
    "def image_gray(image):\n",
    "    return cv2.cvtColor(image, cv2.COLOR_RGB2GRAY)\n",
    "\n",
    "def image_bin(image_gs):\n",
    "    height, width = image_gs.shape[0:2]\n",
    "    image_binary = np.ndarray((height, width), dtype=np.uint8)\n",
    "    ret, image_bin = cv2.threshold(image_gs, 127, 255, cv2.THRESH_BINARY)\n",
    "    return image_bin\n",
    "\n",
    "def invert(image):\n",
    "    return 255-image\n",
    "\n",
    "def display_image(image, color=False):\n",
    "    if color:\n",
    "        plt.imshow(image)\n",
    "    else:\n",
    "        plt.imshow(image, 'gray')\n",
    "\n",
    "def dilate(image):\n",
    "    kernel = np.ones((3, 3)) # strukturni element 3x3 blok\n",
    "    return cv2.dilate(image, kernel, iterations=1)\n",
    "\n",
    "def erode(image):\n",
    "    kernel = np.ones((3, 3)) # strukturni element 3x3 blok\n",
    "    return cv2.erode(image, kernel, iterations=1)"
   ]
  },
  {
   "cell_type": "code",
   "execution_count": 5,
   "metadata": {},
   "outputs": [],
   "source": [
    "def resize_region(region):\n",
    "    return cv2.resize(region, (28, 28), interpolation=cv2.INTER_NEAREST)"
   ]
  },
  {
   "cell_type": "code",
   "execution_count": 6,
   "metadata": {},
   "outputs": [],
   "source": [
    "def select_roi(image_orig, image_bin):\n",
    "    contours, hierarchy = cv2.findContours(image_bin.copy(), cv2.RETR_LIST, cv2.CHAIN_APPROX_SIMPLE)\n",
    "    sorted_regions = [] # lista sortiranih regiona po X osi\n",
    "    regions_array = []\n",
    "    print(len(contours))\n",
    "    for contour in contours:\n",
    "        x, y, w, h = cv2.boundingRect(contour) # koordinate i velicina granicnog pravougaonika\n",
    "        area = cv2.contourArea(contour)\n",
    "        if h < 100 and h > 40 and w > 20 and w<70:\n",
    "            # kopirati [y:y+h+1, x:x+w+1] sa binarne slike i smestiti u novu sliku\n",
    "            # oznaciti region pravougaonikom na originalnoj slici sa rectangle funkcijom\n",
    "            region = image_bin[y:y+h+1, x:x+w+1]\n",
    "            regions_array.append([resize_region(region), (x, y, w, h)])\n",
    "            cv2.rectangle(image_orig, (x, y), (x + w, y + h), (0, 255, 0), 2)\n",
    "    \n",
    "    regions_array = sorted(regions_array, key=lambda x: x[1][0])\n",
    "    sorted_regions = [region[0] for region in regions_array]\n",
    "    return image_orig, sorted_regions"
   ]
  },
  {
   "cell_type": "code",
   "execution_count": 7,
   "metadata": {},
   "outputs": [],
   "source": [
    "def scale_to_range(image):\n",
    "    return image/255"
   ]
  },
  {
   "cell_type": "code",
   "execution_count": 8,
   "metadata": {},
   "outputs": [],
   "source": [
    "def matrix_to_vector(image):\n",
    "    return image.flatten()"
   ]
  },
  {
   "cell_type": "code",
   "execution_count": 9,
   "metadata": {},
   "outputs": [],
   "source": [
    "def prepare_for_ann(regions):\n",
    "    ready_for_ann = []\n",
    "    for region in regions:\n",
    "        scale = scale_to_range(region)\n",
    "        ready_for_ann.append(matrix_to_vector(scale))\n",
    "    return ready_for_ann"
   ]
  },
  {
   "cell_type": "code",
   "execution_count": 10,
   "metadata": {},
   "outputs": [],
   "source": [
    "def convert_output(alphabet):\n",
    "    nn_outputs = []\n",
    "    for index in range(len(alphabet)):\n",
    "        output = np.zeros(len(alphabet))\n",
    "        output[index] = 1\n",
    "        nn_outputs.append(output)\n",
    "    return np.array(nn_outputs)"
   ]
  },
  {
   "cell_type": "code",
   "execution_count": 11,
   "metadata": {},
   "outputs": [],
   "source": [
    "def create_ann(output_size):\n",
    "    ann = Sequential()\n",
    "    ann.add(Dense(128, input_dim=784, activation='sigmoid'))\n",
    "    ann.add(Dense(output_size, activation='sigmoid'))\n",
    "    return ann"
   ]
  },
  {
   "cell_type": "code",
   "execution_count": 12,
   "metadata": {},
   "outputs": [],
   "source": [
    "def train_ann(ann, X_train, y_train, epochs):\n",
    "    X_train = np.array(X_train, np.float32) # dati ulaz\n",
    "    y_train = np.array(y_train, np.float32) # zeljeni izlazi na date ulaze\n",
    "    \n",
    "    print(\"\\nTraining started...\")\n",
    "    sgd = SGD(lr=0.01, momentum=0.9)\n",
    "    ann.compile(loss='mean_squared_error', optimizer=sgd)\n",
    "    ann.fit(X_train, y_train, epochs=epochs, batch_size=1, verbose=0, shuffle=False)\n",
    "    print(\"\\nTraining completed...\")\n",
    "    return ann"
   ]
  },
  {
   "cell_type": "code",
   "execution_count": 13,
   "metadata": {},
   "outputs": [],
   "source": [
    "def winner(output):\n",
    "    return max(enumerate(output), key=lambda x: x[1])[0]"
   ]
  },
  {
   "cell_type": "code",
   "execution_count": 14,
   "metadata": {},
   "outputs": [],
   "source": [
    "def display_result(outputs, alphabet):\n",
    "    result = []\n",
    "    for output in outputs:\n",
    "        result.append(alphabet[winner(output)])\n",
    "    return result"
   ]
  },
  {
   "cell_type": "code",
   "execution_count": 15,
   "metadata": {},
   "outputs": [
    {
     "name": "stdout",
     "output_type": "stream",
     "text": [
      "6\n"
     ]
    },
    {
     "data": {
      "image/png": "[encoded data removed]",
      "text/plain": [
       "<Figure size 1152x864 with 1 Axes>"
      ]
     },
     "metadata": {
      "needs_background": "light"
     },
     "output_type": "display_data"
    }
   ],
   "source": [
    "#obucavanje\n",
    "#priprema slike sa brojevima\n",
    "image_color = load_image('images/brojevi_5x5.jpg')\n",
    "img = image_bin(image_gray(image_color))\n",
    "img_bin = erode(dilate(img))\n",
    "selected_regions, numbers = select_roi(image_color.copy(), img_bin)\n",
    "display_image(selected_regions)"
   ]
  },
  {
   "cell_type": "code",
   "execution_count": null,
   "metadata": {},
   "outputs": [
    {
     "name": "stdout",
     "output_type": "stream",
     "text": [
      "\n",
      "Training started...\n"
     ]
    }
   ],
   "source": [
    "#treniranje\n",
    "#alphabet = [0, 1, 2, 3, 4, 5, 6, 7, 8, 9]\n",
    "alphabet = [1, 2, 3, 4]\n",
    "\n",
    "inputs = prepare_for_ann(numbers)\n",
    "outputs = convert_output(alphabet)\n",
    "ann = create_ann(output_size=4)\n",
    "ann = train_ann(ann, inputs, outputs, epochs=2000)"
   ]
  },
  {
   "cell_type": "code",
   "execution_count": null,
   "metadata": {},
   "outputs": [],
   "source": [
    "result = ann.predict(np.array(inputs[1:3], np.float32))\n",
    "print(result)\n",
    "print(\"\\n\")\n",
    "print(display_result(result, alphabet))"
   ]
  },
  {
   "cell_type": "code",
   "execution_count": null,
   "metadata": {},
   "outputs": [],
   "source": [
    "img = cv2.imread('images/nonogram13.jpg')# ucitavanje slike sa diska\n",
    "img = cv2.resize(img, (720,720)) \n",
    "slikica = img.copy()\n",
    "#img = cv2.cvtColor(img, cv2.COLOR_BGR2RGB) # konvertovanje iz BGR u RGB model boja (OpenCV ucita sliku kao BGR)\n",
    "gray = cv2.cvtColor(img, cv2.COLOR_BGR2GRAY)\n",
    "slikica2 = image_bin(gray.copy())\n",
    "slikicaa = erode(dilate(slikica2))\n",
    "edges = cv2.Canny(gray,90,150,apertureSize = 3)\n",
    "#kernel = np.ones((3,3),np.uint8)\n",
    "#edges = cv2.dilate(edges,kernel,iterations = 1)\n",
    "#kernel = np.ones((5,5),np.uint8)\n",
    "#edges = cv2.erode(edges,kernel,iterations = 1)\n",
    "lines = cv2.HoughLines(edges, 1,np.pi/180, 150)\n",
    "vert_linije=[]\n",
    "horiz_linije=[]\n",
    "for line in lines:\n",
    "    rho,theta=line[0]\n",
    "    if(np.sin(theta)==1):\n",
    "        horiz_linije.append(line)\n",
    "    elif(np.sin(theta)==0):\n",
    "        vert_linije.append(line)\n",
    "filtrirane_linije=[]\n",
    "posljednji_rho=None\n",
    "vert_linije.sort(key=lambda element: element[0][0])\n",
    "for line in vert_linije:\n",
    "    rho,theta=line[0]\n",
    "    if posljednji_rho==None:\n",
    "        filtrirane_linije.append(line)\n",
    "        posljednji_rho=rho\n",
    "    else:\n",
    "        if (rho-posljednji_rho>20):\n",
    "            posljednji_rho=rho\n",
    "            filtrirane_linije.append(line)\n",
    "posljednji_rho=None\n",
    "horiz_linije.sort(key=lambda element: element[0][0])\n",
    "for line in horiz_linije:\n",
    "    rho,theta=line[0]\n",
    "    if posljednji_rho==None:\n",
    "        posljednji_rho=rho\n",
    "        filtrirane_linije.append(line)\n",
    "    else:\n",
    "        if (rho-posljednji_rho>20):\n",
    "            posljednji_rho=rho\n",
    "            filtrirane_linije.append(line)\n",
    "for line in filtrirane_linije:\n",
    "    rho,theta=line[0]\n",
    "    a = np.cos(theta)\n",
    "    b = np.sin(theta)\n",
    "    x0 = a*rho\n",
    "    y0 = b*rho\n",
    "    x1 = int(x0 + 1000*(-b))\n",
    "    y1 = int(y0 + 1000*(a))\n",
    "    x2 = int(x0 - 1000*(-b))\n",
    "    y2 = int(y0 - 1000*(a))\n",
    "    cv2.line(img,(x1,y1),(x2,y2),(0,0,255),2)\n",
    "plt.imshow(img)"
   ]
  },
  {
   "cell_type": "code",
   "execution_count": null,
   "metadata": {},
   "outputs": [],
   "source": [
    "import math"
   ]
  },
  {
   "cell_type": "code",
   "execution_count": null,
   "metadata": {},
   "outputs": [],
   "source": [
    "def select_one_region(image_orig, image_bin):\n",
    "    contours, hierarchy = cv2.findContours(image_bin.copy(), cv2.RETR_LIST, cv2.CHAIN_APPROX_SIMPLE)\n",
    "    print(len(contours))\n",
    "    for contour in contours:\n",
    "        x, y, w, h = cv2.boundingRect(contour)\n",
    "        area = cv2.contourArea(contour)\n",
    "        if h < 90 and h > 40 and w > 20 and w<50:\n",
    "            region = image_bin[y:y+h+1, x:x+w+1]\n",
    "            cv2.rectangle(image_orig, (x, y), (x + w, y + h), (0, 255, 0), 5)\n",
    "    return image_orig, region\n",
    "baha, aha = select_one_region(slikica.copy(),slikicaa)\n",
    "display_image(baha)"
   ]
  },
  {
   "cell_type": "code",
   "execution_count": null,
   "metadata": {},
   "outputs": [],
   "source": [
    "intersections=[]\n",
    "p=1\n",
    "for i in range(len(filtrirane_linije)):\n",
    "    rho1, theta1 = filtrirane_linije[i][0]\n",
    "    for ii in range(p,len(filtrirane_linije)):\n",
    "        rho2, theta2 = filtrirane_linije[ii][0]\n",
    "        if((np.sin(theta1)==1 and np.sin(theta2)==0) or (np.sin(theta1)==0 and np.sin(theta2)==1)):\n",
    "            A = np.array([\n",
    "                [np.cos(theta1), np.sin(theta1)],\n",
    "                [np.cos(theta2), np.sin(theta2)]\n",
    "            ])\n",
    "            b = np.array([[rho1], [rho2]])\n",
    "            tacka = np.linalg.solve(A, b)\n",
    "            intersections.append(tacka)\n",
    "    p=p+1\n",
    "    if(p==len(filtrirane_linije)):\n",
    "        break\n",
    "korjen=math.sqrt(len(intersections))\n",
    "korjen=int(korjen)\n",
    "pravougaonici=[]\n",
    "br=0\n",
    "bra=1\n",
    "for i in range((korjen-1)**2):\n",
    "        if(br!=0 and bra==korjen):\n",
    "            bra=1\n",
    "            br=br+1\n",
    "        pravougaonici.append([intersections[br],intersections[br+korjen],intersections[br+1],intersections[br+korjen+1]])\n",
    "        br=br+1\n",
    "        bra=bra+1\n",
    "zadnji_pravougaonik=pravougaonici[-1]#iskoristicemo ga za mjeru koliko brojeva moze stati u pravougaonike\n",
    "rows_pravougaonici=[]\n",
    "columns_pravougaonici=[]\n",
    "rows_regions_array=[]\n",
    "columns_regions_array=[]\n",
    "brojac=0\n",
    "for i in pravougaonici:\n",
    "    if (brojac>0 and brojac<(korjen-1)):\n",
    "        rows_pravougaonici.append(i)\n",
    "    if(brojac%(korjen-1)==0 and brojac>0):\n",
    "        columns_pravougaonici.append(i)\n",
    "    brojac=brojac+1\n",
    "print(\"ROWS PRAVOUGAONICI\")\n",
    "rows_br=int((rows_pravougaonici[0][1][0]-rows_pravougaonici[0][0][0])/(zadnji_pravougaonik[1][0]-zadnji_pravougaonik[0][0]))\n",
    "print(\"U rows pravougaonicima se moze nalaziti brojeva:\"+str(rows_br))\n",
    "for i in rows_pravougaonici:\n",
    "    image=img[int(i[0][1]):int(i[2][1]), int(i[0][0]):int(i[1][0])]\n",
    "    slika = image_bin(image_gray(image))\n",
    "    slika_bin=erode(dilate(slika))\n",
    "    selektovani_region, brojevi = select_roi(image.copy(), slika_bin)\n",
    "    if(len(brojevi)==1):\n",
    "        resize_broj = resize_region(brojevi[0])\n",
    "        rows_regions_array.append(resize_broj)\n",
    "        plt.imshow(resize_broj)\n",
    "        plt.pause(1)\n",
    "    else:\n",
    "        resize_broj1 = resize_region(brojevi[0])\n",
    "        resize_broj2 = resize_region(brojevi[1])\n",
    "        rows_regions_array.append(resize_broj1)\n",
    "        rows_regions_array.append(resize_broj2)\n",
    "        plt.imshow(resize_broj1)\n",
    "        plt.pause(1)\n",
    "        plt.imshow(resize_broj2)\n",
    "        plt.pause(1)\n",
    "    \n",
    "print(\"COLUMNS PRAVOUGAONICI\")\n",
    "columns_br=int((columns_pravougaonici[0][2][1]-columns_pravougaonici[0][0][1])/(zadnji_pravougaonik[2][1]-zadnji_pravougaonik[0][1]))\n",
    "print(\"U columns pravougaonicima se moze nalaziti brojeva:\"+str(columns_br))\n",
    "for i in columns_pravougaonici:\n",
    "    image=img[int(i[0][1]):int(i[2][1]), int(i[0][0]):int(i[1][0])]\n",
    "    slika = image_bin(image_gray(image))\n",
    "    slika_bin=erode(dilate(slika))\n",
    "    selektovani_region, broj = select_one_region(image.copy(), slika_bin)\n",
    "    resize_broj = resize_region(broj)\n",
    "    columns_regions_array.append(resize_broj)\n",
    "    plt.imshow(resize_broj)\n",
    "    plt.pause(1)\n",
    "    "
   ]
  },
  {
   "cell_type": "code",
   "execution_count": null,
   "metadata": {},
   "outputs": [],
   "source": [
    "test_inputs_rows =  prepare_for_ann(rows_regions_array)\n",
    "result_rows = ann.predict(np.array(test_inputs_rows, np.float32))"
   ]
  },
  {
   "cell_type": "code",
   "execution_count": null,
   "metadata": {},
   "outputs": [],
   "source": [
    "print(display_result(result_rows, alphabet))"
   ]
  },
  {
   "cell_type": "code",
   "execution_count": null,
   "metadata": {},
   "outputs": [],
   "source": [
    "print(result_rows)"
   ]
  },
  {
   "cell_type": "code",
   "execution_count": null,
   "metadata": {},
   "outputs": [],
   "source": [
    "test_inputs_cols =  prepare_for_ann(columns_regions_array)\n",
    "result_cols = ann.predict(np.array(test_inputs_cols, np.float32))\n",
    "print(display_result(result_cols, alphabet))"
   ]
  },
  {
   "cell_type": "code",
   "execution_count": null,
   "metadata": {},
   "outputs": [],
   "source": []
  }
 ],
 "metadata": {
  "kernelspec": {
   "display_name": "Python 3",
   "language": "python",
   "name": "python3"
  },
  "language_info": {
   "codemirror_mode": {
    "name": "ipython",
    "version": 3
   },
   "file_extension": ".py",
   "mimetype": "text/x-python",
   "name": "python",
   "nbconvert_exporter": "python",
   "pygments_lexer": "ipython3",
   "version": "3.6.4"
  }
 },
 "nbformat": 4,
 "nbformat_minor": 2
}
